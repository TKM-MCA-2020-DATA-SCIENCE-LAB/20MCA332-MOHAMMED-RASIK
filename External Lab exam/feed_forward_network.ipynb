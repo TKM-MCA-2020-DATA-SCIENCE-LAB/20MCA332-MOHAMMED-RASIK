{
  "nbformat": 4,
  "nbformat_minor": 0,
  "metadata": {
    "colab": {
      "name": "feed forward network.ipynb",
      "provenance": []
    },
    "kernelspec": {
      "name": "python3",
      "display_name": "Python 3"
    },
    "language_info": {
      "name": "python"
    }
  },
  "cells": [
    {
      "cell_type": "markdown",
      "source": [
        "# **Aim: Programs on feed forward network to classify any standard dataset available in the public domain**"
      ],
      "metadata": {
        "id": "pfG2T_EEDqpC"
      }
    },
    {
      "cell_type": "code",
      "execution_count": 37,
      "metadata": {
        "id": "Fi-yKos6_KHo"
      },
      "outputs": [],
      "source": [
        "import keras\n",
        "from keras.datasets import mnist\n",
        "from keras.models import Sequential\n",
        "from keras.layers import Dense\n",
        "from tensorflow.keras.optimizers import SGD\n",
        "import matplotlib.pyplot as plt"
      ]
    },
    {
      "cell_type": "code",
      "source": [
        "(x_train,y_train),(x_valid,y_valid)=mnist.load_data()\n",
        "#(x_train,y_train),(x_valid,y_valid)=mnist.load_data('')"
      ],
      "metadata": {
        "id": "ZGuJncFv_kwr"
      },
      "execution_count": 36,
      "outputs": []
    },
    {
      "cell_type": "code",
      "source": [
        "plt.figure(figsize=(5,5))\n",
        "for k in range(20):\n",
        " plt.subplot(10,2,k+1)\n",
        " plt.imshow(x_train[k],cmap='Greys')\n",
        " plt.axis('off')\n",
        "plt.show()"
      ],
      "metadata": {
        "colab": {
          "base_uri": "https://localhost:8080/",
          "height": 303
        },
        "id": "dzEl6KDZA4Iz",
        "outputId": "04c2e112-c1b1-4e2b-ea1b-985cf61a5f7a"
      },
      "execution_count": 38,
      "outputs": [
        {
          "output_type": "display_data",
          "data": {
            "text/plain": [
              "<Figure size 360x360 with 20 Axes>"
            ],
            "image/png": "[encoded data removed]"
          },
          "metadata": {
            "needs_background": "light"
          }
        }
      ]
    },
    {
      "cell_type": "code",
      "source": [
        "x_train[0]"
      ],
      "metadata": {
        "colab": {
          "base_uri": "https://localhost:8080/"
        },
        "id": "qr_IZVENBXM4",
        "outputId": "ab1f4162-bc78-4a3a-8b2b-c183a23663e1"
      },
      "execution_count": 39,
      "outputs": [
        {
          "output_type": "execute_result",
          "data": {
            "text/plain": [
              "array([[  0,   0,   0,   0,   0,   0,   0,   0,   0,   0,   0,   0,   0,\n",
              "          0,   0,   0,   0,   0,   0,   0,   0,   0,   0,   0,   0,   0,\n",
              "          0,   0],\n",
              "       [  0,   0,   0,   0,   0,   0,   0,   0,   0,   0,   0,   0,   0,\n",
              "          0,   0,   0,   0,   0,   0,   0,   0,   0,   0,   0,   0,   0,\n",
              "          0,   0],\n",
              "       [  0,   0,   0,   0,   0,   0,   0,   0,   0,   0,   0,   0,   0,\n",
              "          0,   0,   0,   0,   0,   0,   0,   0,   0,   0,   0,   0,   0,\n",
              "          0,   0],\n",
              "       [  0,   0,   0,   0,   0,   0,   0,   0,   0,   0,   0,   0,   0,\n",
              "          0,   0,   0,   0,   0,   0,   0,   0,   0,   0,   0,   0,   0,\n",
              "          0,   0],\n",
              "       [  0,   0,   0,   0,   0,   0,   0,   0,   0,   0,   0,   0,   0,\n",
              "          0,   0,   0,   0,   0,   0,   0,   0,   0,   0,   0,   0,   0,\n",
              "          0,   0],\n",
              "       [  0,   0,   0,   0,   0,   0,   0,   0,   0,   0,   0,   0,   3,\n",
              "         18,  18,  18, 126, 136, 175,  26, 166, 255, 247, 127,   0,   0,\n",
              "          0,   0],\n",
              "       [  0,   0,   0,   0,   0,   0,   0,   0,  30,  36,  94, 154, 170,\n",
              "        253, 253, 253, 253, 253, 225, 172, 253, 242, 195,  64,   0,   0,\n",
              "          0,   0],\n",
              "       [  0,   0,   0,   0,   0,   0,   0,  49, 238, 253, 253, 253, 253,\n",
              "        253, 253, 253, 253, 251,  93,  82,  82,  56,  39,   0,   0,   0,\n",
              "          0,   0],\n",
              "       [  0,   0,   0,   0,   0,   0,   0,  18, 219, 253, 253, 253, 253,\n",
              "        253, 198, 182, 247, 241,   0,   0,   0,   0,   0,   0,   0,   0,\n",
              "          0,   0],\n",
              "       [  0,   0,   0,   0,   0,   0,   0,   0,  80, 156, 107, 253, 253,\n",
              "        205,  11,   0,  43, 154,   0,   0,   0,   0,   0,   0,   0,   0,\n",
              "          0,   0],\n",
              "       [  0,   0,   0,   0,   0,   0,   0,   0,   0,  14,   1, 154, 253,\n",
              "         90,   0,   0,   0,   0,   0,   0,   0,   0,   0,   0,   0,   0,\n",
              "          0,   0],\n",
              "       [  0,   0,   0,   0,   0,   0,   0,   0,   0,   0,   0, 139, 253,\n",
              "        190,   2,   0,   0,   0,   0,   0,   0,   0,   0,   0,   0,   0,\n",
              "          0,   0],\n",
              "       [  0,   0,   0,   0,   0,   0,   0,   0,   0,   0,   0,  11, 190,\n",
              "        253,  70,   0,   0,   0,   0,   0,   0,   0,   0,   0,   0,   0,\n",
              "          0,   0],\n",
              "       [  0,   0,   0,   0,   0,   0,   0,   0,   0,   0,   0,   0,  35,\n",
              "        241, 225, 160, 108,   1,   0,   0,   0,   0,   0,   0,   0,   0,\n",
              "          0,   0],\n",
              "       [  0,   0,   0,   0,   0,   0,   0,   0,   0,   0,   0,   0,   0,\n",
              "         81, 240, 253, 253, 119,  25,   0,   0,   0,   0,   0,   0,   0,\n",
              "          0,   0],\n",
              "       [  0,   0,   0,   0,   0,   0,   0,   0,   0,   0,   0,   0,   0,\n",
              "          0,  45, 186, 253, 253, 150,  27,   0,   0,   0,   0,   0,   0,\n",
              "          0,   0],\n",
              "       [  0,   0,   0,   0,   0,   0,   0,   0,   0,   0,   0,   0,   0,\n",
              "          0,   0,  16,  93, 252, 253, 187,   0,   0,   0,   0,   0,   0,\n",
              "          0,   0],\n",
              "       [  0,   0,   0,   0,   0,   0,   0,   0,   0,   0,   0,   0,   0,\n",
              "          0,   0,   0,   0, 249, 253, 249,  64,   0,   0,   0,   0,   0,\n",
              "          0,   0],\n",
              "       [  0,   0,   0,   0,   0,   0,   0,   0,   0,   0,   0,   0,   0,\n",
              "          0,  46, 130, 183, 253, 253, 207,   2,   0,   0,   0,   0,   0,\n",
              "          0,   0],\n",
              "       [  0,   0,   0,   0,   0,   0,   0,   0,   0,   0,   0,   0,  39,\n",
              "        148, 229, 253, 253, 253, 250, 182,   0,   0,   0,   0,   0,   0,\n",
              "          0,   0],\n",
              "       [  0,   0,   0,   0,   0,   0,   0,   0,   0,   0,  24, 114, 221,\n",
              "        253, 253, 253, 253, 201,  78,   0,   0,   0,   0,   0,   0,   0,\n",
              "          0,   0],\n",
              "       [  0,   0,   0,   0,   0,   0,   0,   0,  23,  66, 213, 253, 253,\n",
              "        253, 253, 198,  81,   2,   0,   0,   0,   0,   0,   0,   0,   0,\n",
              "          0,   0],\n",
              "       [  0,   0,   0,   0,   0,   0,  18, 171, 219, 253, 253, 253, 253,\n",
              "        195,  80,   9,   0,   0,   0,   0,   0,   0,   0,   0,   0,   0,\n",
              "          0,   0],\n",
              "       [  0,   0,   0,   0,  55, 172, 226, 253, 253, 253, 253, 244, 133,\n",
              "         11,   0,   0,   0,   0,   0,   0,   0,   0,   0,   0,   0,   0,\n",
              "          0,   0],\n",
              "       [  0,   0,   0,   0, 136, 253, 253, 253, 212, 135, 132,  16,   0,\n",
              "          0,   0,   0,   0,   0,   0,   0,   0,   0,   0,   0,   0,   0,\n",
              "          0,   0],\n",
              "       [  0,   0,   0,   0,   0,   0,   0,   0,   0,   0,   0,   0,   0,\n",
              "          0,   0,   0,   0,   0,   0,   0,   0,   0,   0,   0,   0,   0,\n",
              "          0,   0],\n",
              "       [  0,   0,   0,   0,   0,   0,   0,   0,   0,   0,   0,   0,   0,\n",
              "          0,   0,   0,   0,   0,   0,   0,   0,   0,   0,   0,   0,   0,\n",
              "          0,   0],\n",
              "       [  0,   0,   0,   0,   0,   0,   0,   0,   0,   0,   0,   0,   0,\n",
              "          0,   0,   0,   0,   0,   0,   0,   0,   0,   0,   0,   0,   0,\n",
              "          0,   0]], dtype=uint8)"
            ]
          },
          "metadata": {},
          "execution_count": 39
        }
      ]
    },
    {
      "cell_type": "code",
      "source": [
        "x_valid[0]"
      ],
      "metadata": {
        "colab": {
          "base_uri": "https://localhost:8080/"
        },
        "id": "oNrSpDa1ByUh",
        "outputId": "69080ac9-d99e-4666-814c-8bdac8f93901"
      },
      "execution_count": 40,
      "outputs": [
        {
          "output_type": "execute_result",
          "data": {
            "text/plain": [
              "array([[  0,   0,   0,   0,   0,   0,   0,   0,   0,   0,   0,   0,   0,\n",
              "          0,   0,   0,   0,   0,   0,   0,   0,   0,   0,   0,   0,   0,\n",
              "          0,   0],\n",
              "       [  0,   0,   0,   0,   0,   0,   0,   0,   0,   0,   0,   0,   0,\n",
              "          0,   0,   0,   0,   0,   0,   0,   0,   0,   0,   0,   0,   0,\n",
              "          0,   0],\n",
              "       [  0,   0,   0,   0,   0,   0,   0,   0,   0,   0,   0,   0,   0,\n",
              "          0,   0,   0,   0,   0,   0,   0,   0,   0,   0,   0,   0,   0,\n",
              "          0,   0],\n",
              "       [  0,   0,   0,   0,   0,   0,   0,   0,   0,   0,   0,   0,   0,\n",
              "          0,   0,   0,   0,   0,   0,   0,   0,   0,   0,   0,   0,   0,\n",
              "          0,   0],\n",
              "       [  0,   0,   0,   0,   0,   0,   0,   0,   0,   0,   0,   0,   0,\n",
              "          0,   0,   0,   0,   0,   0,   0,   0,   0,   0,   0,   0,   0,\n",
              "          0,   0],\n",
              "       [  0,   0,   0,   0,   0,   0,   0,   0,   0,   0,   0,   0,   0,\n",
              "          0,   0,   0,   0,   0,   0,   0,   0,   0,   0,   0,   0,   0,\n",
              "          0,   0],\n",
              "       [  0,   0,   0,   0,   0,   0,   0,   0,   0,   0,   0,   0,   0,\n",
              "          0,   0,   0,   0,   0,   0,   0,   0,   0,   0,   0,   0,   0,\n",
              "          0,   0],\n",
              "       [  0,   0,   0,   0,   0,   0,  84, 185, 159, 151,  60,  36,   0,\n",
              "          0,   0,   0,   0,   0,   0,   0,   0,   0,   0,   0,   0,   0,\n",
              "          0,   0],\n",
              "       [  0,   0,   0,   0,   0,   0, 222, 254, 254, 254, 254, 241, 198,\n",
              "        198, 198, 198, 198, 198, 198, 198, 170,  52,   0,   0,   0,   0,\n",
              "          0,   0],\n",
              "       [  0,   0,   0,   0,   0,   0,  67, 114,  72, 114, 163, 227, 254,\n",
              "        225, 254, 254, 254, 250, 229, 254, 254, 140,   0,   0,   0,   0,\n",
              "          0,   0],\n",
              "       [  0,   0,   0,   0,   0,   0,   0,   0,   0,   0,   0,  17,  66,\n",
              "         14,  67,  67,  67,  59,  21, 236, 254, 106,   0,   0,   0,   0,\n",
              "          0,   0],\n",
              "       [  0,   0,   0,   0,   0,   0,   0,   0,   0,   0,   0,   0,   0,\n",
              "          0,   0,   0,   0,   0,  83, 253, 209,  18,   0,   0,   0,   0,\n",
              "          0,   0],\n",
              "       [  0,   0,   0,   0,   0,   0,   0,   0,   0,   0,   0,   0,   0,\n",
              "          0,   0,   0,   0,  22, 233, 255,  83,   0,   0,   0,   0,   0,\n",
              "          0,   0],\n",
              "       [  0,   0,   0,   0,   0,   0,   0,   0,   0,   0,   0,   0,   0,\n",
              "          0,   0,   0,   0, 129, 254, 238,  44,   0,   0,   0,   0,   0,\n",
              "          0,   0],\n",
              "       [  0,   0,   0,   0,   0,   0,   0,   0,   0,   0,   0,   0,   0,\n",
              "          0,   0,   0,  59, 249, 254,  62,   0,   0,   0,   0,   0,   0,\n",
              "          0,   0],\n",
              "       [  0,   0,   0,   0,   0,   0,   0,   0,   0,   0,   0,   0,   0,\n",
              "          0,   0,   0, 133, 254, 187,   5,   0,   0,   0,   0,   0,   0,\n",
              "          0,   0],\n",
              "       [  0,   0,   0,   0,   0,   0,   0,   0,   0,   0,   0,   0,   0,\n",
              "          0,   0,   9, 205, 248,  58,   0,   0,   0,   0,   0,   0,   0,\n",
              "          0,   0],\n",
              "       [  0,   0,   0,   0,   0,   0,   0,   0,   0,   0,   0,   0,   0,\n",
              "          0,   0, 126, 254, 182,   0,   0,   0,   0,   0,   0,   0,   0,\n",
              "          0,   0],\n",
              "       [  0,   0,   0,   0,   0,   0,   0,   0,   0,   0,   0,   0,   0,\n",
              "          0,  75, 251, 240,  57,   0,   0,   0,   0,   0,   0,   0,   0,\n",
              "          0,   0],\n",
              "       [  0,   0,   0,   0,   0,   0,   0,   0,   0,   0,   0,   0,   0,\n",
              "         19, 221, 254, 166,   0,   0,   0,   0,   0,   0,   0,   0,   0,\n",
              "          0,   0],\n",
              "       [  0,   0,   0,   0,   0,   0,   0,   0,   0,   0,   0,   0,   3,\n",
              "        203, 254, 219,  35,   0,   0,   0,   0,   0,   0,   0,   0,   0,\n",
              "          0,   0],\n",
              "       [  0,   0,   0,   0,   0,   0,   0,   0,   0,   0,   0,   0,  38,\n",
              "        254, 254,  77,   0,   0,   0,   0,   0,   0,   0,   0,   0,   0,\n",
              "          0,   0],\n",
              "       [  0,   0,   0,   0,   0,   0,   0,   0,   0,   0,   0,  31, 224,\n",
              "        254, 115,   1,   0,   0,   0,   0,   0,   0,   0,   0,   0,   0,\n",
              "          0,   0],\n",
              "       [  0,   0,   0,   0,   0,   0,   0,   0,   0,   0,   0, 133, 254,\n",
              "        254,  52,   0,   0,   0,   0,   0,   0,   0,   0,   0,   0,   0,\n",
              "          0,   0],\n",
              "       [  0,   0,   0,   0,   0,   0,   0,   0,   0,   0,  61, 242, 254,\n",
              "        254,  52,   0,   0,   0,   0,   0,   0,   0,   0,   0,   0,   0,\n",
              "          0,   0],\n",
              "       [  0,   0,   0,   0,   0,   0,   0,   0,   0,   0, 121, 254, 254,\n",
              "        219,  40,   0,   0,   0,   0,   0,   0,   0,   0,   0,   0,   0,\n",
              "          0,   0],\n",
              "       [  0,   0,   0,   0,   0,   0,   0,   0,   0,   0, 121, 254, 207,\n",
              "         18,   0,   0,   0,   0,   0,   0,   0,   0,   0,   0,   0,   0,\n",
              "          0,   0],\n",
              "       [  0,   0,   0,   0,   0,   0,   0,   0,   0,   0,   0,   0,   0,\n",
              "          0,   0,   0,   0,   0,   0,   0,   0,   0,   0,   0,   0,   0,\n",
              "          0,   0]], dtype=uint8)"
            ]
          },
          "metadata": {},
          "execution_count": 40
        }
      ]
    },
    {
      "cell_type": "code",
      "source": [
        "x_train=x_train.reshape(60000,784).astype('float32')\n",
        "x_valid=x_valid.reshape(10000,784).astype('float32')"
      ],
      "metadata": {
        "id": "Rw-vfsT_CcDH"
      },
      "execution_count": 41,
      "outputs": []
    },
    {
      "cell_type": "code",
      "source": [
        "x_train/=255\n",
        "x_valid/=255\n",
        "x_valid[0]"
      ],
      "metadata": {
        "colab": {
          "base_uri": "https://localhost:8080/"
        },
        "id": "k0MMwCtBChD3",
        "outputId": "f025576d-bdeb-4365-a8a8-9752bf261ecc"
      },
      "execution_count": 42,
      "outputs": [
        {
          "output_type": "execute_result",
          "data": {
            "text/plain": [
              "array([0.        , 0.        , 0.        , 0.        , 0.        ,\n",
              "       0.        , 0.        , 0.        , 0.        , 0.        ,\n",
              "       0.        , 0.        , 0.        , 0.        , 0.        ,\n",
              "       0.        , 0.        , 0.        , 0.        , 0.        ,\n",
              "       0.        , 0.        , 0.        , 0.        , 0.        ,\n",
              "       0.        , 0.        , 0.        , 0.        , 0.        ,\n",
              "       0.        , 0.        , 0.        , 0.        , 0.        ,\n",
              "       0.        , 0.        , 0.        , 0.        , 0.        ,\n",
              "       0.        , 0.        , 0.        , 0.        , 0.        ,\n",
              "       0.        , 0.        , 0.        , 0.        , 0.        ,\n",
              "       0.        , 0.        , 0.        , 0.        , 0.        ,\n",
              "       0.        , 0.        , 0.        , 0.        , 0.        ,\n",
              "       0.        , 0.        , 0.        , 0.        , 0.        ,\n",
              "       0.        , 0.        , 0.        , 0.        , 0.        ,\n",
              "       0.        , 0.        , 0.        , 0.        , 0.        ,\n",
              "       0.        , 0.        , 0.        , 0.        , 0.        ,\n",
              "       0.        , 0.        , 0.        , 0.        , 0.        ,\n",
              "       0.        , 0.        , 0.        , 0.        , 0.        ,\n",
              "       0.        , 0.        , 0.        , 0.        , 0.        ,\n",
              "       0.        , 0.        , 0.        , 0.        , 0.        ,\n",
              "       0.        , 0.        , 0.        , 0.        , 0.        ,\n",
              "       0.        , 0.        , 0.        , 0.        , 0.        ,\n",
              "       0.        , 0.        , 0.        , 0.        , 0.        ,\n",
              "       0.        , 0.        , 0.        , 0.        , 0.        ,\n",
              "       0.        , 0.        , 0.        , 0.        , 0.        ,\n",
              "       0.        , 0.        , 0.        , 0.        , 0.        ,\n",
              "       0.        , 0.        , 0.        , 0.        , 0.        ,\n",
              "       0.        , 0.        , 0.        , 0.        , 0.        ,\n",
              "       0.        , 0.        , 0.        , 0.        , 0.        ,\n",
              "       0.        , 0.        , 0.        , 0.        , 0.        ,\n",
              "       0.        , 0.        , 0.        , 0.        , 0.        ,\n",
              "       0.        , 0.        , 0.        , 0.        , 0.        ,\n",
              "       0.        , 0.        , 0.        , 0.        , 0.        ,\n",
              "       0.        , 0.        , 0.        , 0.        , 0.        ,\n",
              "       0.        , 0.        , 0.        , 0.        , 0.        ,\n",
              "       0.        , 0.        , 0.        , 0.        , 0.        ,\n",
              "       0.        , 0.        , 0.        , 0.        , 0.        ,\n",
              "       0.        , 0.        , 0.        , 0.        , 0.        ,\n",
              "       0.        , 0.        , 0.        , 0.        , 0.        ,\n",
              "       0.        , 0.        , 0.        , 0.        , 0.        ,\n",
              "       0.        , 0.        , 0.32941177, 0.7254902 , 0.62352943,\n",
              "       0.5921569 , 0.23529412, 0.14117648, 0.        , 0.        ,\n",
              "       0.        , 0.        , 0.        , 0.        , 0.        ,\n",
              "       0.        , 0.        , 0.        , 0.        , 0.        ,\n",
              "       0.        , 0.        , 0.        , 0.        , 0.        ,\n",
              "       0.        , 0.        , 0.        , 0.        , 0.        ,\n",
              "       0.87058824, 0.99607843, 0.99607843, 0.99607843, 0.99607843,\n",
              "       0.94509804, 0.7764706 , 0.7764706 , 0.7764706 , 0.7764706 ,\n",
              "       0.7764706 , 0.7764706 , 0.7764706 , 0.7764706 , 0.6666667 ,\n",
              "       0.20392157, 0.        , 0.        , 0.        , 0.        ,\n",
              "       0.        , 0.        , 0.        , 0.        , 0.        ,\n",
              "       0.        , 0.        , 0.        , 0.2627451 , 0.44705883,\n",
              "       0.28235295, 0.44705883, 0.6392157 , 0.8901961 , 0.99607843,\n",
              "       0.88235295, 0.99607843, 0.99607843, 0.99607843, 0.98039216,\n",
              "       0.8980392 , 0.99607843, 0.99607843, 0.54901963, 0.        ,\n",
              "       0.        , 0.        , 0.        , 0.        , 0.        ,\n",
              "       0.        , 0.        , 0.        , 0.        , 0.        ,\n",
              "       0.        , 0.        , 0.        , 0.        , 0.        ,\n",
              "       0.        , 0.06666667, 0.25882354, 0.05490196, 0.2627451 ,\n",
              "       0.2627451 , 0.2627451 , 0.23137255, 0.08235294, 0.9254902 ,\n",
              "       0.99607843, 0.41568628, 0.        , 0.        , 0.        ,\n",
              "       0.        , 0.        , 0.        , 0.        , 0.        ,\n",
              "       0.        , 0.        , 0.        , 0.        , 0.        ,\n",
              "       0.        , 0.        , 0.        , 0.        , 0.        ,\n",
              "       0.        , 0.        , 0.        , 0.        , 0.        ,\n",
              "       0.        , 0.3254902 , 0.99215686, 0.81960785, 0.07058824,\n",
              "       0.        , 0.        , 0.        , 0.        , 0.        ,\n",
              "       0.        , 0.        , 0.        , 0.        , 0.        ,\n",
              "       0.        , 0.        , 0.        , 0.        , 0.        ,\n",
              "       0.        , 0.        , 0.        , 0.        , 0.        ,\n",
              "       0.        , 0.        , 0.        , 0.08627451, 0.9137255 ,\n",
              "       1.        , 0.3254902 , 0.        , 0.        , 0.        ,\n",
              "       0.        , 0.        , 0.        , 0.        , 0.        ,\n",
              "       0.        , 0.        , 0.        , 0.        , 0.        ,\n",
              "       0.        , 0.        , 0.        , 0.        , 0.        ,\n",
              "       0.        , 0.        , 0.        , 0.        , 0.        ,\n",
              "       0.        , 0.5058824 , 0.99607843, 0.93333334, 0.17254902,\n",
              "       0.        , 0.        , 0.        , 0.        , 0.        ,\n",
              "       0.        , 0.        , 0.        , 0.        , 0.        ,\n",
              "       0.        , 0.        , 0.        , 0.        , 0.        ,\n",
              "       0.        , 0.        , 0.        , 0.        , 0.        ,\n",
              "       0.        , 0.        , 0.        , 0.23137255, 0.9764706 ,\n",
              "       0.99607843, 0.24313726, 0.        , 0.        , 0.        ,\n",
              "       0.        , 0.        , 0.        , 0.        , 0.        ,\n",
              "       0.        , 0.        , 0.        , 0.        , 0.        ,\n",
              "       0.        , 0.        , 0.        , 0.        , 0.        ,\n",
              "       0.        , 0.        , 0.        , 0.        , 0.        ,\n",
              "       0.        , 0.52156866, 0.99607843, 0.73333335, 0.01960784,\n",
              "       0.        , 0.        , 0.        , 0.        , 0.        ,\n",
              "       0.        , 0.        , 0.        , 0.        , 0.        ,\n",
              "       0.        , 0.        , 0.        , 0.        , 0.        ,\n",
              "       0.        , 0.        , 0.        , 0.        , 0.        ,\n",
              "       0.        , 0.        , 0.        , 0.03529412, 0.8039216 ,\n",
              "       0.972549  , 0.22745098, 0.        , 0.        , 0.        ,\n",
              "       0.        , 0.        , 0.        , 0.        , 0.        ,\n",
              "       0.        , 0.        , 0.        , 0.        , 0.        ,\n",
              "       0.        , 0.        , 0.        , 0.        , 0.        ,\n",
              "       0.        , 0.        , 0.        , 0.        , 0.        ,\n",
              "       0.        , 0.49411765, 0.99607843, 0.7137255 , 0.        ,\n",
              "       0.        , 0.        , 0.        , 0.        , 0.        ,\n",
              "       0.        , 0.        , 0.        , 0.        , 0.        ,\n",
              "       0.        , 0.        , 0.        , 0.        , 0.        ,\n",
              "       0.        , 0.        , 0.        , 0.        , 0.        ,\n",
              "       0.        , 0.        , 0.        , 0.29411766, 0.9843137 ,\n",
              "       0.9411765 , 0.22352941, 0.        , 0.        , 0.        ,\n",
              "       0.        , 0.        , 0.        , 0.        , 0.        ,\n",
              "       0.        , 0.        , 0.        , 0.        , 0.        ,\n",
              "       0.        , 0.        , 0.        , 0.        , 0.        ,\n",
              "       0.        , 0.        , 0.        , 0.        , 0.        ,\n",
              "       0.07450981, 0.8666667 , 0.99607843, 0.6509804 , 0.        ,\n",
              "       0.        , 0.        , 0.        , 0.        , 0.        ,\n",
              "       0.        , 0.        , 0.        , 0.        , 0.        ,\n",
              "       0.        , 0.        , 0.        , 0.        , 0.        ,\n",
              "       0.        , 0.        , 0.        , 0.        , 0.        ,\n",
              "       0.        , 0.        , 0.01176471, 0.79607844, 0.99607843,\n",
              "       0.85882354, 0.13725491, 0.        , 0.        , 0.        ,\n",
              "       0.        , 0.        , 0.        , 0.        , 0.        ,\n",
              "       0.        , 0.        , 0.        , 0.        , 0.        ,\n",
              "       0.        , 0.        , 0.        , 0.        , 0.        ,\n",
              "       0.        , 0.        , 0.        , 0.        , 0.        ,\n",
              "       0.14901961, 0.99607843, 0.99607843, 0.3019608 , 0.        ,\n",
              "       0.        , 0.        , 0.        , 0.        , 0.        ,\n",
              "       0.        , 0.        , 0.        , 0.        , 0.        ,\n",
              "       0.        , 0.        , 0.        , 0.        , 0.        ,\n",
              "       0.        , 0.        , 0.        , 0.        , 0.        ,\n",
              "       0.        , 0.        , 0.12156863, 0.8784314 , 0.99607843,\n",
              "       0.4509804 , 0.00392157, 0.        , 0.        , 0.        ,\n",
              "       0.        , 0.        , 0.        , 0.        , 0.        ,\n",
              "       0.        , 0.        , 0.        , 0.        , 0.        ,\n",
              "       0.        , 0.        , 0.        , 0.        , 0.        ,\n",
              "       0.        , 0.        , 0.        , 0.        , 0.        ,\n",
              "       0.52156866, 0.99607843, 0.99607843, 0.20392157, 0.        ,\n",
              "       0.        , 0.        , 0.        , 0.        , 0.        ,\n",
              "       0.        , 0.        , 0.        , 0.        , 0.        ,\n",
              "       0.        , 0.        , 0.        , 0.        , 0.        ,\n",
              "       0.        , 0.        , 0.        , 0.        , 0.        ,\n",
              "       0.        , 0.        , 0.23921569, 0.9490196 , 0.99607843,\n",
              "       0.99607843, 0.20392157, 0.        , 0.        , 0.        ,\n",
              "       0.        , 0.        , 0.        , 0.        , 0.        ,\n",
              "       0.        , 0.        , 0.        , 0.        , 0.        ,\n",
              "       0.        , 0.        , 0.        , 0.        , 0.        ,\n",
              "       0.        , 0.        , 0.        , 0.        , 0.        ,\n",
              "       0.4745098 , 0.99607843, 0.99607843, 0.85882354, 0.15686275,\n",
              "       0.        , 0.        , 0.        , 0.        , 0.        ,\n",
              "       0.        , 0.        , 0.        , 0.        , 0.        ,\n",
              "       0.        , 0.        , 0.        , 0.        , 0.        ,\n",
              "       0.        , 0.        , 0.        , 0.        , 0.        ,\n",
              "       0.        , 0.        , 0.        , 0.4745098 , 0.99607843,\n",
              "       0.8117647 , 0.07058824, 0.        , 0.        , 0.        ,\n",
              "       0.        , 0.        , 0.        , 0.        , 0.        ,\n",
              "       0.        , 0.        , 0.        , 0.        , 0.        ,\n",
              "       0.        , 0.        , 0.        , 0.        , 0.        ,\n",
              "       0.        , 0.        , 0.        , 0.        , 0.        ,\n",
              "       0.        , 0.        , 0.        , 0.        , 0.        ,\n",
              "       0.        , 0.        , 0.        , 0.        , 0.        ,\n",
              "       0.        , 0.        , 0.        , 0.        , 0.        ,\n",
              "       0.        , 0.        , 0.        , 0.        ], dtype=float32)"
            ]
          },
          "metadata": {},
          "execution_count": 42
        }
      ]
    },
    {
      "cell_type": "code",
      "source": [
        "from keras import utils as np_utils\n",
        "n_classes=10\n",
        "y_train=keras.utils.np_utils.to_categorical(y_train,n_classes)\n",
        "y_valid=keras.utils.np_utils.to_categorical(y_valid,n_classes)\n",
        "y_valid[0]"
      ],
      "metadata": {
        "colab": {
          "base_uri": "https://localhost:8080/"
        },
        "id": "jShbDsRdCvcI",
        "outputId": "8cd99bdf-2f7d-4fef-a084-14242d5ff726"
      },
      "execution_count": 43,
      "outputs": [
        {
          "output_type": "execute_result",
          "data": {
            "text/plain": [
              "array([0., 0., 0., 0., 0., 0., 0., 1., 0., 0.], dtype=float32)"
            ]
          },
          "metadata": {},
          "execution_count": 43
        }
      ]
    },
    {
      "cell_type": "code",
      "source": [
        "model=Sequential()\n",
        "model.add(Dense(64,activation='sigmoid',input_shape=(784,)))\n",
        "model.add(Dense(10,activation='softmax'))\n",
        "model.summary()"
      ],
      "metadata": {
        "colab": {
          "base_uri": "https://localhost:8080/"
        },
        "id": "a0IXMRwlC8i4",
        "outputId": "bbc1e9fa-ba38-4802-c04a-184d654d3d5e"
      },
      "execution_count": 44,
      "outputs": [
        {
          "output_type": "stream",
          "name": "stdout",
          "text": [
            "Model: \"sequential_3\"\n",
            "_________________________________________________________________\n",
            " Layer (type)                Output Shape              Param #   \n",
            "=================================================================\n",
            " dense_6 (Dense)             (None, 64)                50240     \n",
            "                                                                 \n",
            " dense_7 (Dense)             (None, 10)                650       \n",
            "                                                                 \n",
            "=================================================================\n",
            "Total params: 50,890\n",
            "Trainable params: 50,890\n",
            "Non-trainable params: 0\n",
            "_________________________________________________________________\n"
          ]
        }
      ]
    },
    {
      "cell_type": "code",
      "source": [
        "from keras.callbacks import History\n",
        "model.compile(loss='mean_squared_error',optimizer=SGD(learning_rate=0.01),metrics=['accuracy'])\n",
        "History=model.fit(x_train,y_train,batch_size=128,epochs=90,verbose=1)"
      ],
      "metadata": {
        "colab": {
          "base_uri": "https://localhost:8080/"
        },
        "id": "b7uAXyGpDiYx",
        "outputId": "ab526683-e386-447c-f363-dd13eb0bff58"
      },
      "execution_count": 45,
      "outputs": [
        {
          "output_type": "stream",
          "name": "stdout",
          "text": [
            "Epoch 1/90\n",
            "469/469 [==============================] - 2s 3ms/step - loss: 0.0956 - accuracy: 0.0997\n",
            "Epoch 2/90\n",
            "469/469 [==============================] - 2s 3ms/step - loss: 0.0939 - accuracy: 0.1105\n",
            "Epoch 3/90\n",
            "469/469 [==============================] - 2s 3ms/step - loss: 0.0926 - accuracy: 0.1242\n",
            "Epoch 4/90\n",
            "469/469 [==============================] - 2s 3ms/step - loss: 0.0915 - accuracy: 0.1545\n",
            "Epoch 5/90\n",
            "469/469 [==============================] - 2s 4ms/step - loss: 0.0906 - accuracy: 0.2051\n",
            "Epoch 6/90\n",
            "469/469 [==============================] - 2s 3ms/step - loss: 0.0899 - accuracy: 0.2267\n",
            "Epoch 7/90\n",
            "469/469 [==============================] - 2s 3ms/step - loss: 0.0892 - accuracy: 0.2259\n",
            "Epoch 8/90\n",
            "469/469 [==============================] - 2s 3ms/step - loss: 0.0887 - accuracy: 0.2227\n",
            "Epoch 9/90\n",
            "469/469 [==============================] - 2s 3ms/step - loss: 0.0882 - accuracy: 0.2349\n",
            "Epoch 10/90\n",
            "469/469 [==============================] - 2s 3ms/step - loss: 0.0878 - accuracy: 0.2463\n",
            "Epoch 11/90\n",
            "469/469 [==============================] - 1s 3ms/step - loss: 0.0874 - accuracy: 0.2556\n",
            "Epoch 12/90\n",
            "469/469 [==============================] - 2s 3ms/step - loss: 0.0870 - accuracy: 0.2623\n",
            "Epoch 13/90\n",
            "469/469 [==============================] - 1s 3ms/step - loss: 0.0866 - accuracy: 0.2662\n",
            "Epoch 14/90\n",
            "469/469 [==============================] - 1s 3ms/step - loss: 0.0862 - accuracy: 0.2699\n",
            "Epoch 15/90\n",
            "469/469 [==============================] - 1s 3ms/step - loss: 0.0859 - accuracy: 0.2733\n",
            "Epoch 16/90\n",
            "469/469 [==============================] - 1s 3ms/step - loss: 0.0855 - accuracy: 0.2765\n",
            "Epoch 17/90\n",
            "469/469 [==============================] - 1s 3ms/step - loss: 0.0851 - accuracy: 0.2782\n",
            "Epoch 18/90\n",
            "469/469 [==============================] - 1s 3ms/step - loss: 0.0847 - accuracy: 0.2842\n",
            "Epoch 19/90\n",
            "469/469 [==============================] - 2s 3ms/step - loss: 0.0844 - accuracy: 0.2873\n",
            "Epoch 20/90\n",
            "469/469 [==============================] - 1s 3ms/step - loss: 0.0840 - accuracy: 0.2919\n",
            "Epoch 21/90\n",
            "469/469 [==============================] - 1s 3ms/step - loss: 0.0836 - accuracy: 0.2981\n",
            "Epoch 22/90\n",
            "469/469 [==============================] - 2s 3ms/step - loss: 0.0832 - accuracy: 0.3032\n",
            "Epoch 23/90\n",
            "469/469 [==============================] - 2s 3ms/step - loss: 0.0828 - accuracy: 0.3078\n",
            "Epoch 24/90\n",
            "469/469 [==============================] - 2s 3ms/step - loss: 0.0824 - accuracy: 0.3142\n",
            "Epoch 25/90\n",
            "469/469 [==============================] - 2s 4ms/step - loss: 0.0819 - accuracy: 0.3207\n",
            "Epoch 26/90\n",
            "469/469 [==============================] - 2s 3ms/step - loss: 0.0815 - accuracy: 0.3284\n",
            "Epoch 27/90\n",
            "469/469 [==============================] - 2s 3ms/step - loss: 0.0811 - accuracy: 0.3347\n",
            "Epoch 28/90\n",
            "469/469 [==============================] - 2s 3ms/step - loss: 0.0807 - accuracy: 0.3432\n",
            "Epoch 29/90\n",
            "469/469 [==============================] - 2s 3ms/step - loss: 0.0802 - accuracy: 0.3510\n",
            "Epoch 30/90\n",
            "469/469 [==============================] - 2s 3ms/step - loss: 0.0798 - accuracy: 0.3591\n",
            "Epoch 31/90\n",
            "469/469 [==============================] - 2s 3ms/step - loss: 0.0794 - accuracy: 0.3699\n",
            "Epoch 32/90\n",
            "469/469 [==============================] - 2s 3ms/step - loss: 0.0789 - accuracy: 0.3783\n",
            "Epoch 33/90\n",
            "469/469 [==============================] - 2s 3ms/step - loss: 0.0785 - accuracy: 0.3895\n",
            "Epoch 34/90\n",
            "469/469 [==============================] - 2s 3ms/step - loss: 0.0780 - accuracy: 0.3992\n",
            "Epoch 35/90\n",
            "469/469 [==============================] - 2s 3ms/step - loss: 0.0776 - accuracy: 0.4099\n",
            "Epoch 36/90\n",
            "469/469 [==============================] - 2s 3ms/step - loss: 0.0771 - accuracy: 0.4201\n",
            "Epoch 37/90\n",
            "469/469 [==============================] - 2s 3ms/step - loss: 0.0767 - accuracy: 0.4313\n",
            "Epoch 38/90\n",
            "469/469 [==============================] - 2s 3ms/step - loss: 0.0762 - accuracy: 0.4414\n",
            "Epoch 39/90\n",
            "469/469 [==============================] - 2s 3ms/step - loss: 0.0758 - accuracy: 0.4518\n",
            "Epoch 40/90\n",
            "469/469 [==============================] - 1s 3ms/step - loss: 0.0753 - accuracy: 0.4623\n",
            "Epoch 41/90\n",
            "469/469 [==============================] - 2s 3ms/step - loss: 0.0749 - accuracy: 0.4737\n",
            "Epoch 42/90\n",
            "469/469 [==============================] - 2s 3ms/step - loss: 0.0744 - accuracy: 0.4829\n",
            "Epoch 43/90\n",
            "469/469 [==============================] - 2s 3ms/step - loss: 0.0740 - accuracy: 0.4932\n",
            "Epoch 44/90\n",
            "469/469 [==============================] - 2s 4ms/step - loss: 0.0735 - accuracy: 0.5027\n",
            "Epoch 45/90\n",
            "469/469 [==============================] - 2s 4ms/step - loss: 0.0730 - accuracy: 0.5119\n",
            "Epoch 46/90\n",
            "469/469 [==============================] - 2s 4ms/step - loss: 0.0726 - accuracy: 0.5201\n",
            "Epoch 47/90\n",
            "469/469 [==============================] - 2s 3ms/step - loss: 0.0721 - accuracy: 0.5285\n",
            "Epoch 48/90\n",
            "469/469 [==============================] - 2s 3ms/step - loss: 0.0717 - accuracy: 0.5368\n",
            "Epoch 49/90\n",
            "469/469 [==============================] - 2s 3ms/step - loss: 0.0712 - accuracy: 0.5446\n",
            "Epoch 50/90\n",
            "469/469 [==============================] - 2s 3ms/step - loss: 0.0707 - accuracy: 0.5518\n",
            "Epoch 51/90\n",
            "469/469 [==============================] - 2s 3ms/step - loss: 0.0703 - accuracy: 0.5590\n",
            "Epoch 52/90\n",
            "469/469 [==============================] - 2s 3ms/step - loss: 0.0698 - accuracy: 0.5648\n",
            "Epoch 53/90\n",
            "469/469 [==============================] - 2s 3ms/step - loss: 0.0694 - accuracy: 0.5717\n",
            "Epoch 54/90\n",
            "469/469 [==============================] - 2s 3ms/step - loss: 0.0689 - accuracy: 0.5780\n",
            "Epoch 55/90\n",
            "469/469 [==============================] - 2s 3ms/step - loss: 0.0684 - accuracy: 0.5844\n",
            "Epoch 56/90\n",
            "469/469 [==============================] - 2s 4ms/step - loss: 0.0680 - accuracy: 0.5903\n",
            "Epoch 57/90\n",
            "469/469 [==============================] - 2s 4ms/step - loss: 0.0675 - accuracy: 0.5971\n",
            "Epoch 58/90\n",
            "469/469 [==============================] - 2s 3ms/step - loss: 0.0670 - accuracy: 0.6026\n",
            "Epoch 59/90\n",
            "469/469 [==============================] - 2s 3ms/step - loss: 0.0666 - accuracy: 0.6080\n",
            "Epoch 60/90\n",
            "469/469 [==============================] - 2s 3ms/step - loss: 0.0661 - accuracy: 0.6132\n",
            "Epoch 61/90\n",
            "469/469 [==============================] - 2s 3ms/step - loss: 0.0656 - accuracy: 0.6186\n",
            "Epoch 62/90\n",
            "469/469 [==============================] - 2s 3ms/step - loss: 0.0651 - accuracy: 0.6237\n",
            "Epoch 63/90\n",
            "469/469 [==============================] - 2s 3ms/step - loss: 0.0647 - accuracy: 0.6280\n",
            "Epoch 64/90\n",
            "469/469 [==============================] - 2s 3ms/step - loss: 0.0642 - accuracy: 0.6334\n",
            "Epoch 65/90\n",
            "469/469 [==============================] - 2s 3ms/step - loss: 0.0637 - accuracy: 0.6372\n",
            "Epoch 66/90\n",
            "469/469 [==============================] - 2s 3ms/step - loss: 0.0633 - accuracy: 0.6422\n",
            "Epoch 67/90\n",
            "469/469 [==============================] - 2s 3ms/step - loss: 0.0628 - accuracy: 0.6466\n",
            "Epoch 68/90\n",
            "469/469 [==============================] - 2s 3ms/step - loss: 0.0623 - accuracy: 0.6499\n",
            "Epoch 69/90\n",
            "469/469 [==============================] - 2s 3ms/step - loss: 0.0619 - accuracy: 0.6543\n",
            "Epoch 70/90\n",
            "469/469 [==============================] - 2s 4ms/step - loss: 0.0614 - accuracy: 0.6593\n",
            "Epoch 71/90\n",
            "469/469 [==============================] - 2s 3ms/step - loss: 0.0609 - accuracy: 0.6630\n",
            "Epoch 72/90\n",
            "469/469 [==============================] - 2s 3ms/step - loss: 0.0605 - accuracy: 0.6667\n",
            "Epoch 73/90\n",
            "469/469 [==============================] - 2s 3ms/step - loss: 0.0600 - accuracy: 0.6701\n",
            "Epoch 74/90\n",
            "469/469 [==============================] - 2s 3ms/step - loss: 0.0595 - accuracy: 0.6744\n",
            "Epoch 75/90\n",
            "469/469 [==============================] - 2s 3ms/step - loss: 0.0591 - accuracy: 0.6783\n",
            "Epoch 76/90\n",
            "469/469 [==============================] - 2s 3ms/step - loss: 0.0586 - accuracy: 0.6820\n",
            "Epoch 77/90\n",
            "469/469 [==============================] - 2s 3ms/step - loss: 0.0582 - accuracy: 0.6857\n",
            "Epoch 78/90\n",
            "469/469 [==============================] - 2s 3ms/step - loss: 0.0577 - accuracy: 0.6899\n",
            "Epoch 79/90\n",
            "469/469 [==============================] - 2s 3ms/step - loss: 0.0573 - accuracy: 0.6930\n",
            "Epoch 80/90\n",
            "469/469 [==============================] - 2s 3ms/step - loss: 0.0568 - accuracy: 0.6963\n",
            "Epoch 81/90\n",
            "469/469 [==============================] - 2s 3ms/step - loss: 0.0564 - accuracy: 0.6996\n",
            "Epoch 82/90\n",
            "469/469 [==============================] - 2s 3ms/step - loss: 0.0559 - accuracy: 0.7026\n",
            "Epoch 83/90\n",
            "469/469 [==============================] - 2s 3ms/step - loss: 0.0555 - accuracy: 0.7060\n",
            "Epoch 84/90\n",
            "469/469 [==============================] - 2s 4ms/step - loss: 0.0551 - accuracy: 0.7090\n",
            "Epoch 85/90\n",
            "469/469 [==============================] - 2s 4ms/step - loss: 0.0547 - accuracy: 0.7122\n",
            "Epoch 86/90\n",
            "469/469 [==============================] - 2s 3ms/step - loss: 0.0542 - accuracy: 0.7153\n",
            "Epoch 87/90\n",
            "469/469 [==============================] - 2s 4ms/step - loss: 0.0538 - accuracy: 0.7178\n",
            "Epoch 88/90\n",
            "469/469 [==============================] - 2s 3ms/step - loss: 0.0534 - accuracy: 0.7206\n",
            "Epoch 89/90\n",
            "469/469 [==============================] - 2s 4ms/step - loss: 0.0530 - accuracy: 0.7224\n",
            "Epoch 90/90\n",
            "469/469 [==============================] - 2s 3ms/step - loss: 0.0526 - accuracy: 0.7249\n"
          ]
        }
      ]
    },
    {
      "cell_type": "code",
      "source": [
        "plt.plot(History.history['accuracy'])\n",
        "plt.title('model accuracy')\n",
        "plt.ylabel('accuracy')\n",
        "plt.xlabel('epoch')\n",
        "plt.show()"
      ],
      "metadata": {
        "colab": {
          "base_uri": "https://localhost:8080/",
          "height": 295
        },
        "id": "FW1441uEEk1Y",
        "outputId": "23a54a1b-81b8-4b46-c628-d8486e12c71e"
      },
      "execution_count": 51,
      "outputs": [
        {
          "output_type": "display_data",
          "data": {
            "text/plain": [
              "<Figure size 432x288 with 1 Axes>"
            ],
            "image/png": "[encoded data removed]"
          },
          "metadata": {
            "needs_background": "light"
          }
        }
      ]
    },
    {
      "cell_type": "code",
      "source": [
        "plt.plot(History.history['loss'])\n",
        "plt.title('model loss')\n",
        "plt.ylabel('loss')\n",
        "plt.xlabel('epoch')\n",
        "plt.show()\n"
      ],
      "metadata": {
        "colab": {
          "base_uri": "https://localhost:8080/",
          "height": 295
        },
        "id": "5f4DoGGwFfrQ",
        "outputId": "f4a11add-b522-4d26-9e2b-a2db31395ade"
      },
      "execution_count": 52,
      "outputs": [
        {
          "output_type": "display_data",
          "data": {
            "text/plain": [
              "<Figure size 432x288 with 1 Axes>"
            ],
            "image/png": "[encoded data removed]"
          },
          "metadata": {
            "needs_background": "light"
          }
        }
      ]
    }
  ]
}