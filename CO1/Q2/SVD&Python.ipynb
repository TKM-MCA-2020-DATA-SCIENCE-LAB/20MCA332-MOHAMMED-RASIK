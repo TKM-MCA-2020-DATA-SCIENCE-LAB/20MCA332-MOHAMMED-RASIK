{
  "nbformat": 4,
  "nbformat_minor": 0,
  "metadata": {
    "colab": {
      "name": "SVD_intro.ipynb",
      "provenance": [],
      "collapsed_sections": []
    },
    "kernelspec": {
      "name": "python3",
      "display_name": "Python 3"
    },
    "accelerator": "GPU"
  },
  "cells": [
    {
      "cell_type": "markdown",
      "metadata": {
        "id": "5Y168marVDa7"
      },
      "source": [
        "##  SVD\n",
        "\n",
        "* This method allows you to get complete S, U, V"
      ]
    },
    {
      "cell_type": "code",
      "metadata": {
        "id": "OsqGqedlUzBa"
      },
      "source": [
        "import numpy as np\n",
        "from numpy.linalg import svd"
      ],
      "execution_count": null,
      "outputs": []
    },
    {
      "cell_type": "code",
      "metadata": {
        "id": "ntNGmWFNU7tu"
      },
      "source": [
        "# this matrix has rank=2, since col3 = col1+co2, \n",
        "## but col1 and col2 are independent from each other\n",
        "\n",
        "A = np.array([[1,2,3], [4,5,6], [5,7,9]])\n",
        "\n",
        "U, S, VT = svd(A)"
      ],
      "execution_count": null,
      "outputs": []
    },
    {
      "cell_type": "code",
      "metadata": {
        "id": "wor44QZrV6hv",
        "outputId": "cf51ebd5-7dc0-4e2e-9480-2e43cc214a0c",
        "colab": {
          "base_uri": "https://localhost:8080/",
          "height": 221
        }
      },
      "source": [
        "print(\"Left Singular Vectors:\")\n",
        "print(U)\n",
        "print(\"Singular Values:\") \n",
        "print(np.diag(S))\n",
        "print(\"Right Singular Vectors:\") \n",
        "print(VT)"
      ],
      "execution_count": null,
      "outputs": [
        {
          "output_type": "stream",
          "text": [
            "Left Singular Vectors:\n",
            "[[-0.2354116   0.78182354 -0.57735027]\n",
            " [-0.55937325 -0.5947842  -0.57735027]\n",
            " [-0.79478485  0.18703934  0.57735027]]\n",
            "Singular Values:\n",
            "[[1.56633231e+01 0.00000000e+00 0.00000000e+00]\n",
            " [0.00000000e+00 8.12593979e-01 0.00000000e+00]\n",
            " [0.00000000e+00 0.00000000e+00 1.17807579e-15]]\n",
            "Right Singular Vectors:\n",
            "[[-0.41158755 -0.56381288 -0.71603821]\n",
            " [-0.8148184  -0.12429146  0.56623547]\n",
            " [-0.40824829  0.81649658 -0.40824829]]\n"
          ],
          "name": "stdout"
        }
      ]
    },
    {
      "cell_type": "code",
      "metadata": {
        "id": "6RwW7b6qWBCC",
        "outputId": "1fd83a52-c0aa-456b-97f4-068617fd268c",
        "colab": {
          "base_uri": "https://localhost:8080/",
          "height": 68
        }
      },
      "source": [
        "# Return the original matrix A\n",
        "# @ is used for matrix multiplication in Py3, use np.matmul with Py2\n",
        "print(U @ np.diag(S) @ VT)"
      ],
      "execution_count": null,
      "outputs": [
        {
          "output_type": "stream",
          "text": [
            "[[1. 2. 3.]\n",
            " [4. 5. 6.]\n",
            " [5. 7. 9.]]\n"
          ],
          "name": "stdout"
        }
      ]
    },
    {
      "cell_type": "markdown",
      "metadata": {
        "id": "xoGBhme2ax5U"
      },
      "source": [
        "##  SVD\n",
        "\n",
        "* Sklearn Truncated SVD - This is used for dimensional reduction directly"
      ]
    },
    {
      "cell_type": "code",
      "metadata": {
        "id": "3i-RzGbaWIBN"
      },
      "source": [
        "import numpy as np\n",
        "from sklearn.decomposition import TruncatedSVD"
      ],
      "execution_count": null,
      "outputs": []
    },
    {
      "cell_type": "code",
      "metadata": {
        "id": "py1zQcnngqD4",
        "outputId": "559b2a63-c369-4ea5-96fc-3372bf21a326",
        "colab": {
          "base_uri": "https://localhost:8080/",
          "height": 85
        }
      },
      "source": [
        "A = np.array([[1,2,3], [4,5,6], [5,7,9]])\n",
        "print(\"Original Matrix:\")\n",
        "A"
      ],
      "execution_count": null,
      "outputs": [
        {
          "output_type": "stream",
          "text": [
            "Original Matrix:\n"
          ],
          "name": "stdout"
        },
        {
          "output_type": "execute_result",
          "data": {
            "text/plain": [
              "array([[1, 2, 3],\n",
              "       [4, 5, 6],\n",
              "       [5, 7, 9]])"
            ]
          },
          "metadata": {
            "tags": []
          },
          "execution_count": 12
        }
      ]
    },
    {
      "cell_type": "code",
      "metadata": {
        "id": "SFN8yYuHgsih",
        "outputId": "91da7edf-77b3-46be-8636-c8fd233e1f71",
        "colab": {
          "base_uri": "https://localhost:8080/",
          "height": 136
        }
      },
      "source": [
        "svd =  TruncatedSVD(n_components = 2)  # reduce to 2 features\n",
        "A_transf = svd.fit_transform(A)\n",
        "\n",
        "print(\"Singular values:\")\n",
        "print(svd.singular_values_)\n",
        "print()\n",
        "\n",
        "print(\"Transformed Matrix after reducing to 2 features:\")\n",
        "print(A_transf)"
      ],
      "execution_count": null,
      "outputs": [
        {
          "output_type": "stream",
          "text": [
            "Singular values:\n",
            "[15.66332312  0.81259398]\n",
            "\n",
            "Transformed Matrix after reducing to 2 features:\n",
            "[[ 3.68732795  0.6353051 ]\n",
            " [ 8.76164389 -0.48331806]\n",
            " [12.44897184  0.15198704]]\n"
          ],
          "name": "stdout"
        }
      ]
    }
  ]
}